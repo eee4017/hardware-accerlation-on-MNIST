{
 "cells": [
  {
   "cell_type": "code",
   "execution_count": 22,
   "metadata": {},
   "outputs": [],
   "source": [
    "import csv\n",
    "f = open('File Index - Sheet2.csv', 'r')\n",
    "#for row in csv.DictReader(f):\n",
    "#    print(row)"
   ]
  },
  {
   "cell_type": "code",
   "execution_count": 23,
   "metadata": {},
   "outputs": [
    {
     "name": "stdout",
     "output_type": "stream",
     "text": [
      "end else if( 0 <= file && file <= 0 ) begin // unprocessed picture\n",
      "\tmemory_start = 0;\n",
      "\tmemory_end = 783;\n",
      "end else if( 1 <= file && file <= 32 ) begin // Core1\n",
      "\tmemory_start = 784;\n",
      "\tmemory_end = 808;\n",
      "end else if( 33 <= file && file <= 64 ) begin // Conv1 bias\n",
      "\tmemory_start = 809;\n",
      "\tmemory_end = 1592;\n",
      "end else if( 65 <= file && file <= 96 ) begin // Picture After conv1\n",
      "\tmemory_start = 1593;\n",
      "\tmemory_end = 2376;\n",
      "end else if( 97 <= file && file <= 128 ) begin // Picture After Maxpool1\n",
      "\tmemory_start = 2377;\n",
      "\tmemory_end = 2572;\n",
      "end else if( 129 <= file && file <= 160 ) begin // Picture After Stage1\n",
      "\tmemory_start = 0;\n",
      "\tmemory_end = 195;\n",
      "end else if( 161 <= file && file <= 2208 ) begin // Core2\n",
      "\tmemory_start = 196;\n",
      "\tmemory_end = 220;\n",
      "end else if( 2209 <= file && file <= 2272 ) begin // Conv2 bias\n",
      "\tmemory_start = 221;\n",
      "\tmemory_end = 416;\n",
      "end else if( 2273 <= file && file <= 2273 ) begin // Picture After conv2 _ old\n",
      "\tmemory_start = 417;\n",
      "\tmemory_end = 612;\n",
      "end else if( 2274 <= file && file <= 2337 ) begin // Picture After conv2 _ new\n",
      "\tmemory_start = 613;\n",
      "\tmemory_end = 808;\n",
      "end else if( 2338 <= file && file <= 2401 ) begin // Picture After Maxpool2\n",
      "\tmemory_start = 809;\n",
      "\tmemory_end = 857;\n",
      "end else if( 2402 <= file && file <= 2405 ) begin // Matrix Input\n",
      "\tmemory_start = 0;\n",
      "\tmemory_end = 783;\n",
      "end else if( 2406 <= file && file <= 2445 ) begin // Matrix\n",
      "\tmemory_start = 784;\n",
      "\tmemory_end = 1567;\n",
      "end else if( 2446 <= file && file <= 2446 ) begin // Matrix bias\n",
      "\tmemory_start = 1568;\n",
      "\tmemory_end = 1577;\n",
      "end else if( 2447 <= file && file <= 2447 ) begin // Answer\n",
      "\tmemory_start = 1578;\n",
      "\tmemory_end = 1587;\n"
     ]
    }
   ],
   "source": [
    "for row in csv.DictReader(f):\n",
    "    print(\"end else if( %s <= file && file <= %s ) begin // %s\" % (row['file Index start'],row['file Index end'],row['File Content']))\n",
    "    print(\"\\tmemory_start = %s;\" % row['Memory start'])\n",
    "    print(\"\\tmemory_end = %s;\" % row['Memory end'])"
   ]
  },
  {
   "cell_type": "code",
   "execution_count": null,
   "metadata": {},
   "outputs": [],
   "source": [
    "if( 0 <= file && file <= 0 ) begin // unprocessed picture\n",
    "\tmemory_start = 0;\n",
    "\tmemory_end = 783;\n",
    "end else if( 1 <= file && file <= 32 ) begin // Core1\n",
    "\tmemory_start = 784;\n",
    "\tmemory_end = 808;\n",
    "end else if( 33 <= file && file <= 64 ) begin // Conv1 bias\n",
    "\tmemory_start = 809;\n",
    "\tmemory_end = 1592;\n",
    "end else if( 65 <= file && file <= 96 ) begin // Picture After conv1\n",
    "\tmemory_start = 1593;\n",
    "\tmemory_end = 2376;\n",
    "end else if( 97 <= file && file <= 128 ) begin // Picture After Maxpool1\n",
    "\tmemory_start = 2377;\n",
    "\tmemory_end = 2572;\n",
    "end else if( 129 <= file && file <= 160 ) begin // Picture After Stage1\n",
    "\tmemory_start = 0;\n",
    "\tmemory_end = 195;\n",
    "end else if( 161 <= file && file <= 2208 ) begin // Core2\n",
    "\tmemory_start = 196;\n",
    "\tmemory_end = 220;\n",
    "end else if( 2209 <= file && file <= 2272 ) begin // Conv2 bias\n",
    "\tmemory_start = 221;\n",
    "\tmemory_end = 416;\n",
    "end else if( 2273 <= file && file <= 2273 ) begin // Picture After conv2 _ old\n",
    "\tmemory_start = 417;\n",
    "\tmemory_end = 612;\n",
    "end else if( 2274 <= file && file <= 2337 ) begin // Picture After conv2 _ new\n",
    "\tmemory_start = 613;\n",
    "\tmemory_end = 808;\n",
    "end else if( 2338 <= file && file <= 2401 ) begin // Picture After Maxpool2\n",
    "\tmemory_start = 809;\n",
    "\tmemory_end = 857;\n",
    "end else if( 2402 <= file && file <= 2405 ) begin // Matrix Input\n",
    "\tmemory_start = 0;\n",
    "\tmemory_end = 783;\n",
    "end else if( 2406 <= file && file <= 2445 ) begin // Matrix\n",
    "\tmemory_start = 784;\n",
    "\tmemory_end = 1567;\n",
    "end else if( 2446 <= file && file <= 2446 ) begin // Matrix bias\n",
    "\tmemory_start = 1568;\n",
    "\tmemory_end = 1577;\n",
    "end else if( 2447 <= file && file <= 2447 ) begin // Answer\n",
    "\tmemory_start = 1578;\n",
    "\tmemory_end = 1587;"
   ]
  }
 ],
 "metadata": {
  "kernelspec": {
   "display_name": "Python 3",
   "language": "python",
   "name": "python3"
  },
  "language_info": {
   "codemirror_mode": {
    "name": "ipython",
    "version": 3
   },
   "file_extension": ".py",
   "mimetype": "text/x-python",
   "name": "python",
   "nbconvert_exporter": "python",
   "pygments_lexer": "ipython3",
   "version": "3.6.4"
  }
 },
 "nbformat": 4,
 "nbformat_minor": 2
}
